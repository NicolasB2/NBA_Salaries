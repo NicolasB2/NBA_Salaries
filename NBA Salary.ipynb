{
 "cells": [
  {
   "cell_type": "markdown",
   "metadata": {},
   "source": [
    "# Primera entrega NBA Salaries"
   ]
  },
  {
   "cell_type": "markdown",
   "metadata": {},
   "source": [
    "### Integrantes:\n",
    "\n",
    "- Nicolas Biojo\n",
    "- Cristian Cobo\n",
    "- David Erazo"
   ]
  },
  {
   "cell_type": "code",
   "execution_count": null,
   "metadata": {},
   "outputs": [],
   "source": []
  },
  {
   "cell_type": "markdown",
   "metadata": {},
   "source": [
    "# Preparación de datos"
   ]
  },
  {
   "cell_type": "markdown",
   "metadata": {},
   "source": [
    "En una primera instancia, se cargaron en un dataframe de pandas el dataset que contiene estadisticas avanzadas del rendiemiento de los jugadores de la NBS durante la temporada 2017-2018. "
   ]
  },
  {
   "cell_type": "code",
   "execution_count": 1,
   "metadata": {},
   "outputs": [],
   "source": [
    "import pandas as pd\n",
    "import seaborn as sn\n",
    "import matplotlib as mpl\n",
    "import matplotlib.pyplot as plt\n",
    "import numpy as np"
   ]
  },
  {
   "cell_type": "code",
   "execution_count": 2,
   "metadata": {
    "scrolled": false
   },
   "outputs": [
    {
     "data": {
      "text/html": [
       "<div>\n",
       "<style scoped>\n",
       "    .dataframe tbody tr th:only-of-type {\n",
       "        vertical-align: middle;\n",
       "    }\n",
       "\n",
       "    .dataframe tbody tr th {\n",
       "        vertical-align: top;\n",
       "    }\n",
       "\n",
       "    .dataframe thead th {\n",
       "        text-align: right;\n",
       "    }\n",
       "</style>\n",
       "<table border=\"1\" class=\"dataframe\">\n",
       "  <thead>\n",
       "    <tr style=\"text-align: right;\">\n",
       "      <th></th>\n",
       "      <th>Player</th>\n",
       "      <th>Salary</th>\n",
       "      <th>NBA_Country</th>\n",
       "      <th>NBA_DraftNumber</th>\n",
       "      <th>Age</th>\n",
       "      <th>Tm</th>\n",
       "      <th>G</th>\n",
       "      <th>MP</th>\n",
       "      <th>PER</th>\n",
       "      <th>TS%</th>\n",
       "      <th>...</th>\n",
       "      <th>TOV%</th>\n",
       "      <th>USG%</th>\n",
       "      <th>OWS</th>\n",
       "      <th>DWS</th>\n",
       "      <th>WS</th>\n",
       "      <th>WS/48</th>\n",
       "      <th>OBPM</th>\n",
       "      <th>DBPM</th>\n",
       "      <th>BPM</th>\n",
       "      <th>VORP</th>\n",
       "    </tr>\n",
       "  </thead>\n",
       "  <tbody>\n",
       "    <tr>\n",
       "      <th>0</th>\n",
       "      <td>Zhou Qi</td>\n",
       "      <td>815615</td>\n",
       "      <td>China</td>\n",
       "      <td>43</td>\n",
       "      <td>22</td>\n",
       "      <td>HOU</td>\n",
       "      <td>16</td>\n",
       "      <td>87</td>\n",
       "      <td>0.6</td>\n",
       "      <td>0.303</td>\n",
       "      <td>...</td>\n",
       "      <td>18.2</td>\n",
       "      <td>19.5</td>\n",
       "      <td>-0.4</td>\n",
       "      <td>0.1</td>\n",
       "      <td>-0.2</td>\n",
       "      <td>-0.121</td>\n",
       "      <td>-10.6</td>\n",
       "      <td>0.5</td>\n",
       "      <td>-10.1</td>\n",
       "      <td>-0.2</td>\n",
       "    </tr>\n",
       "    <tr>\n",
       "      <th>1</th>\n",
       "      <td>Zaza Pachulia</td>\n",
       "      <td>3477600</td>\n",
       "      <td>Georgia</td>\n",
       "      <td>42</td>\n",
       "      <td>33</td>\n",
       "      <td>GSW</td>\n",
       "      <td>66</td>\n",
       "      <td>937</td>\n",
       "      <td>16.8</td>\n",
       "      <td>0.608</td>\n",
       "      <td>...</td>\n",
       "      <td>19.3</td>\n",
       "      <td>17.2</td>\n",
       "      <td>1.7</td>\n",
       "      <td>1.4</td>\n",
       "      <td>3.1</td>\n",
       "      <td>0.160</td>\n",
       "      <td>-0.6</td>\n",
       "      <td>1.3</td>\n",
       "      <td>0.8</td>\n",
       "      <td>0.7</td>\n",
       "    </tr>\n",
       "    <tr>\n",
       "      <th>2</th>\n",
       "      <td>Zach Randolph</td>\n",
       "      <td>12307692</td>\n",
       "      <td>USA</td>\n",
       "      <td>19</td>\n",
       "      <td>36</td>\n",
       "      <td>SAC</td>\n",
       "      <td>59</td>\n",
       "      <td>1508</td>\n",
       "      <td>17.3</td>\n",
       "      <td>0.529</td>\n",
       "      <td>...</td>\n",
       "      <td>12.5</td>\n",
       "      <td>27.6</td>\n",
       "      <td>0.3</td>\n",
       "      <td>1.1</td>\n",
       "      <td>1.4</td>\n",
       "      <td>0.046</td>\n",
       "      <td>-0.6</td>\n",
       "      <td>-1.3</td>\n",
       "      <td>-1.9</td>\n",
       "      <td>0.0</td>\n",
       "    </tr>\n",
       "    <tr>\n",
       "      <th>3</th>\n",
       "      <td>Zach LaVine</td>\n",
       "      <td>3202217</td>\n",
       "      <td>USA</td>\n",
       "      <td>13</td>\n",
       "      <td>22</td>\n",
       "      <td>CHI</td>\n",
       "      <td>24</td>\n",
       "      <td>656</td>\n",
       "      <td>14.6</td>\n",
       "      <td>0.499</td>\n",
       "      <td>...</td>\n",
       "      <td>9.7</td>\n",
       "      <td>29.5</td>\n",
       "      <td>-0.1</td>\n",
       "      <td>0.5</td>\n",
       "      <td>0.4</td>\n",
       "      <td>0.027</td>\n",
       "      <td>-0.7</td>\n",
       "      <td>-2.0</td>\n",
       "      <td>-2.6</td>\n",
       "      <td>-0.1</td>\n",
       "    </tr>\n",
       "    <tr>\n",
       "      <th>4</th>\n",
       "      <td>Zach Collins</td>\n",
       "      <td>3057240</td>\n",
       "      <td>USA</td>\n",
       "      <td>10</td>\n",
       "      <td>20</td>\n",
       "      <td>POR</td>\n",
       "      <td>62</td>\n",
       "      <td>979</td>\n",
       "      <td>8.2</td>\n",
       "      <td>0.487</td>\n",
       "      <td>...</td>\n",
       "      <td>15.6</td>\n",
       "      <td>15.5</td>\n",
       "      <td>-0.4</td>\n",
       "      <td>1.2</td>\n",
       "      <td>0.8</td>\n",
       "      <td>0.038</td>\n",
       "      <td>-3.7</td>\n",
       "      <td>0.9</td>\n",
       "      <td>-2.9</td>\n",
       "      <td>-0.2</td>\n",
       "    </tr>\n",
       "  </tbody>\n",
       "</table>\n",
       "<p>5 rows × 28 columns</p>\n",
       "</div>"
      ],
      "text/plain": [
       "          Player    Salary NBA_Country  NBA_DraftNumber  Age   Tm   G    MP  \\\n",
       "0        Zhou Qi    815615       China               43   22  HOU  16    87   \n",
       "1  Zaza Pachulia   3477600     Georgia               42   33  GSW  66   937   \n",
       "2  Zach Randolph  12307692         USA               19   36  SAC  59  1508   \n",
       "3    Zach LaVine   3202217         USA               13   22  CHI  24   656   \n",
       "4   Zach Collins   3057240         USA               10   20  POR  62   979   \n",
       "\n",
       "    PER    TS%  ...  TOV%  USG%  OWS  DWS   WS  WS/48  OBPM  DBPM   BPM  VORP  \n",
       "0   0.6  0.303  ...  18.2  19.5 -0.4  0.1 -0.2 -0.121 -10.6   0.5 -10.1  -0.2  \n",
       "1  16.8  0.608  ...  19.3  17.2  1.7  1.4  3.1  0.160  -0.6   1.3   0.8   0.7  \n",
       "2  17.3  0.529  ...  12.5  27.6  0.3  1.1  1.4  0.046  -0.6  -1.3  -1.9   0.0  \n",
       "3  14.6  0.499  ...   9.7  29.5 -0.1  0.5  0.4  0.027  -0.7  -2.0  -2.6  -0.1  \n",
       "4   8.2  0.487  ...  15.6  15.5 -0.4  1.2  0.8  0.038  -3.7   0.9  -2.9  -0.2  \n",
       "\n",
       "[5 rows x 28 columns]"
      ]
     },
     "execution_count": 2,
     "metadata": {},
     "output_type": "execute_result"
    }
   ],
   "source": [
    "data = pd.read_csv('2017-18_NBA_salary.csv')\n",
    "data.head()"
   ]
  },
  {
   "cell_type": "markdown",
   "metadata": {},
   "source": [
    "Previo al análisis, se identificaron las variables cuantitativas y categoricas apartir del método .info(). Adicionalmente, este método nos permitió evidenciar la existencia de missing values a partir del número de registros por variable, los cuales fueron: TS%, 3PAr, FTr y TOV% en los registros 29 y 37."
   ]
  },
  {
   "cell_type": "code",
   "execution_count": 3,
   "metadata": {},
   "outputs": [
    {
     "name": "stdout",
     "output_type": "stream",
     "text": [
      "<class 'pandas.core.frame.DataFrame'>\n",
      "RangeIndex: 485 entries, 0 to 484\n",
      "Data columns (total 28 columns):\n",
      "Player             485 non-null object\n",
      "Salary             485 non-null int64\n",
      "NBA_Country        485 non-null object\n",
      "NBA_DraftNumber    485 non-null int64\n",
      "Age                485 non-null int64\n",
      "Tm                 485 non-null object\n",
      "G                  485 non-null int64\n",
      "MP                 485 non-null int64\n",
      "PER                485 non-null float64\n",
      "TS%                483 non-null float64\n",
      "3PAr               483 non-null float64\n",
      "FTr                483 non-null float64\n",
      "ORB%               485 non-null float64\n",
      "DRB%               485 non-null float64\n",
      "TRB%               485 non-null float64\n",
      "AST%               485 non-null float64\n",
      "STL%               485 non-null float64\n",
      "BLK%               485 non-null float64\n",
      "TOV%               483 non-null float64\n",
      "USG%               485 non-null float64\n",
      "OWS                485 non-null float64\n",
      "DWS                485 non-null float64\n",
      "WS                 485 non-null float64\n",
      "WS/48              485 non-null float64\n",
      "OBPM               485 non-null float64\n",
      "DBPM               485 non-null float64\n",
      "BPM                485 non-null float64\n",
      "VORP               485 non-null float64\n",
      "dtypes: float64(20), int64(5), object(3)\n",
      "memory usage: 106.2+ KB\n"
     ]
    }
   ],
   "source": [
    "data.info()"
   ]
  },
  {
   "cell_type": "code",
   "execution_count": 4,
   "metadata": {},
   "outputs": [
    {
     "name": "stdout",
     "output_type": "stream",
     "text": [
      "Missing values: \n",
      "  index 9 name TS%\n",
      "  index 10 name 3PAr\n",
      "  index 11 name FTr\n",
      "  index 18 name TOV%\n"
     ]
    }
   ],
   "source": [
    "mColums = pd.isnull(data).any(0).to_numpy().nonzero()[0]\n",
    "print(\"Missing values: \")\n",
    "for col in mColums:\n",
    "    print (\"  index {} name {}\".format(col,data.columns[col]))"
   ]
  },
  {
   "cell_type": "code",
   "execution_count": 5,
   "metadata": {},
   "outputs": [
    {
     "name": "stdout",
     "output_type": "stream",
     "text": [
      "2 incomplete records: [29 37]\n"
     ]
    }
   ],
   "source": [
    "index = pd.isnull(data).any(1).to_numpy().nonzero()[0]\n",
    "print(\"{} incomplete records:\".format(len(index)), index)"
   ]
  },
  {
   "cell_type": "code",
   "execution_count": 6,
   "metadata": {},
   "outputs": [
    {
     "name": "stdout",
     "output_type": "stream",
     "text": [
      "Datos originales:  (485, 28)\n",
      "Datos limpios y completos:  (483, 28)\n",
      "Se eliminaron 2 registos\n"
     ]
    }
   ],
   "source": [
    "originalData = data.copy()\n",
    "data = data.dropna()\n",
    "print(\"Datos originales: \", originalData.shape)\n",
    "print(\"Datos limpios y completos: \", data.shape)\n",
    "print(\"Se eliminaron {} registos\".format(originalData.shape[0] - data.shape[0]))"
   ]
  },
  {
   "cell_type": "markdown",
   "metadata": {},
   "source": [
    "Acontinuación, se lleva acabo un análisis sobre las variables de mayor relevancia para identificar inconsistencias o datos erronoes. \n",
    "\n",
    "- NBA_Country: No existen dos o más labels distintos para representar un mismo país.\n",
    "- Age: No existe ningun jugador el cual sea menor de 18 años.\n",
    "- Salary: Todos los pagos a los jugadores son valores positivos"
   ]
  },
  {
   "cell_type": "code",
   "execution_count": 7,
   "metadata": {},
   "outputs": [
    {
     "data": {
      "text/plain": [
       "array(['China', 'Georgia', 'USA', 'Canada', 'Spain', 'France',\n",
       "       'Czech Republic', 'Russia', 'South Sudan', 'Switzerland',\n",
       "       'New Zealand', 'Haiti', 'Democratic Re_', 'Tunisia', 'Brazil',\n",
       "       'Germany', 'Australia', 'Cameroon', 'Israel', 'Turkey',\n",
       "       'United Kingdo...', 'Montenegro', 'Serbia', 'Argentina', 'Bosnia',\n",
       "       'Lithuania', 'Croatia', 'Italy', 'Poland', 'Dominican Rep...',\n",
       "       'Finland', 'Latvia', 'Bosnia & Herz...', 'Sweden', 'Ukraine',\n",
       "       'Austria', 'Puerto Rico', 'Senegal', 'Slovenia', 'Greece',\n",
       "       'Democratic Re...', 'Mali', 'Bahamas', 'Egypt'], dtype=object)"
      ]
     },
     "execution_count": 7,
     "metadata": {},
     "output_type": "execute_result"
    }
   ],
   "source": [
    "data[\"NBA_Country\"].unique()"
   ]
  },
  {
   "cell_type": "code",
   "execution_count": 10,
   "metadata": {},
   "outputs": [
    {
     "name": "stdout",
     "output_type": "stream",
     "text": [
      "Menores de edad: 0\n"
     ]
    }
   ],
   "source": [
    "print (\"Menores de edad: {}\".format(data.loc[data.Age < 18].shape[0]))"
   ]
  },
  {
   "cell_type": "code",
   "execution_count": 11,
   "metadata": {},
   "outputs": [
    {
     "data": {
      "text/html": [
       "<div>\n",
       "<style scoped>\n",
       "    .dataframe tbody tr th:only-of-type {\n",
       "        vertical-align: middle;\n",
       "    }\n",
       "\n",
       "    .dataframe tbody tr th {\n",
       "        vertical-align: top;\n",
       "    }\n",
       "\n",
       "    .dataframe thead th {\n",
       "        text-align: right;\n",
       "    }\n",
       "</style>\n",
       "<table border=\"1\" class=\"dataframe\">\n",
       "  <thead>\n",
       "    <tr style=\"text-align: right;\">\n",
       "      <th></th>\n",
       "      <th>Salary</th>\n",
       "      <th>NBA_DraftNumber</th>\n",
       "      <th>Age</th>\n",
       "      <th>G</th>\n",
       "      <th>MP</th>\n",
       "      <th>PER</th>\n",
       "      <th>TS%</th>\n",
       "      <th>3PAr</th>\n",
       "      <th>FTr</th>\n",
       "      <th>ORB%</th>\n",
       "      <th>...</th>\n",
       "      <th>TOV%</th>\n",
       "      <th>USG%</th>\n",
       "      <th>OWS</th>\n",
       "      <th>DWS</th>\n",
       "      <th>WS</th>\n",
       "      <th>WS/48</th>\n",
       "      <th>OBPM</th>\n",
       "      <th>DBPM</th>\n",
       "      <th>BPM</th>\n",
       "      <th>VORP</th>\n",
       "    </tr>\n",
       "  </thead>\n",
       "  <tbody>\n",
       "    <tr>\n",
       "      <th>count</th>\n",
       "      <td>4.830000e+02</td>\n",
       "      <td>483.000000</td>\n",
       "      <td>483.000000</td>\n",
       "      <td>483.000000</td>\n",
       "      <td>483.000000</td>\n",
       "      <td>483.000000</td>\n",
       "      <td>483.000000</td>\n",
       "      <td>483.000000</td>\n",
       "      <td>483.000000</td>\n",
       "      <td>483.000000</td>\n",
       "      <td>...</td>\n",
       "      <td>483.000000</td>\n",
       "      <td>483.000000</td>\n",
       "      <td>483.000000</td>\n",
       "      <td>483.000000</td>\n",
       "      <td>483.000000</td>\n",
       "      <td>483.000000</td>\n",
       "      <td>483.000000</td>\n",
       "      <td>483.000000</td>\n",
       "      <td>483.000000</td>\n",
       "      <td>483.000000</td>\n",
       "    </tr>\n",
       "    <tr>\n",
       "      <th>mean</th>\n",
       "      <td>6.660622e+06</td>\n",
       "      <td>29.395445</td>\n",
       "      <td>26.273292</td>\n",
       "      <td>50.370600</td>\n",
       "      <td>1158.915114</td>\n",
       "      <td>13.315735</td>\n",
       "      <td>0.535387</td>\n",
       "      <td>0.337383</td>\n",
       "      <td>0.263404</td>\n",
       "      <td>4.893996</td>\n",
       "      <td>...</td>\n",
       "      <td>13.140373</td>\n",
       "      <td>18.975569</td>\n",
       "      <td>1.280745</td>\n",
       "      <td>1.181366</td>\n",
       "      <td>2.465424</td>\n",
       "      <td>0.080325</td>\n",
       "      <td>-1.252588</td>\n",
       "      <td>-0.489441</td>\n",
       "      <td>-1.741822</td>\n",
       "      <td>0.601242</td>\n",
       "    </tr>\n",
       "    <tr>\n",
       "      <th>std</th>\n",
       "      <td>7.398214e+06</td>\n",
       "      <td>21.116033</td>\n",
       "      <td>4.274290</td>\n",
       "      <td>24.723561</td>\n",
       "      <td>809.627553</td>\n",
       "      <td>8.745666</td>\n",
       "      <td>0.112352</td>\n",
       "      <td>0.226894</td>\n",
       "      <td>0.294578</td>\n",
       "      <td>4.581519</td>\n",
       "      <td>...</td>\n",
       "      <td>6.115290</td>\n",
       "      <td>5.826533</td>\n",
       "      <td>1.883545</td>\n",
       "      <td>1.033939</td>\n",
       "      <td>2.674520</td>\n",
       "      <td>0.163229</td>\n",
       "      <td>5.028752</td>\n",
       "      <td>2.394156</td>\n",
       "      <td>5.665905</td>\n",
       "      <td>1.247636</td>\n",
       "    </tr>\n",
       "    <tr>\n",
       "      <th>min</th>\n",
       "      <td>4.608000e+04</td>\n",
       "      <td>1.000000</td>\n",
       "      <td>19.000000</td>\n",
       "      <td>1.000000</td>\n",
       "      <td>1.000000</td>\n",
       "      <td>-41.100000</td>\n",
       "      <td>0.000000</td>\n",
       "      <td>0.000000</td>\n",
       "      <td>0.000000</td>\n",
       "      <td>0.000000</td>\n",
       "      <td>...</td>\n",
       "      <td>0.000000</td>\n",
       "      <td>5.700000</td>\n",
       "      <td>-2.300000</td>\n",
       "      <td>0.000000</td>\n",
       "      <td>-1.200000</td>\n",
       "      <td>-1.063000</td>\n",
       "      <td>-36.500000</td>\n",
       "      <td>-14.300000</td>\n",
       "      <td>-49.200000</td>\n",
       "      <td>-1.300000</td>\n",
       "    </tr>\n",
       "    <tr>\n",
       "      <th>25%</th>\n",
       "      <td>1.471382e+06</td>\n",
       "      <td>10.500000</td>\n",
       "      <td>23.000000</td>\n",
       "      <td>29.500000</td>\n",
       "      <td>385.000000</td>\n",
       "      <td>9.800000</td>\n",
       "      <td>0.505500</td>\n",
       "      <td>0.167000</td>\n",
       "      <td>0.155000</td>\n",
       "      <td>1.800000</td>\n",
       "      <td>...</td>\n",
       "      <td>9.900000</td>\n",
       "      <td>15.000000</td>\n",
       "      <td>0.000000</td>\n",
       "      <td>0.300000</td>\n",
       "      <td>0.300000</td>\n",
       "      <td>0.040500</td>\n",
       "      <td>-2.600000</td>\n",
       "      <td>-1.700000</td>\n",
       "      <td>-3.500000</td>\n",
       "      <td>-0.100000</td>\n",
       "    </tr>\n",
       "    <tr>\n",
       "      <th>50%</th>\n",
       "      <td>3.218280e+06</td>\n",
       "      <td>25.000000</td>\n",
       "      <td>26.000000</td>\n",
       "      <td>59.000000</td>\n",
       "      <td>1151.000000</td>\n",
       "      <td>13.200000</td>\n",
       "      <td>0.545000</td>\n",
       "      <td>0.346000</td>\n",
       "      <td>0.231000</td>\n",
       "      <td>3.300000</td>\n",
       "      <td>...</td>\n",
       "      <td>12.500000</td>\n",
       "      <td>17.900000</td>\n",
       "      <td>0.800000</td>\n",
       "      <td>1.000000</td>\n",
       "      <td>1.900000</td>\n",
       "      <td>0.083000</td>\n",
       "      <td>-1.100000</td>\n",
       "      <td>-0.400000</td>\n",
       "      <td>-1.300000</td>\n",
       "      <td>0.100000</td>\n",
       "    </tr>\n",
       "    <tr>\n",
       "      <th>75%</th>\n",
       "      <td>1.000000e+07</td>\n",
       "      <td>47.000000</td>\n",
       "      <td>29.000000</td>\n",
       "      <td>71.000000</td>\n",
       "      <td>1824.500000</td>\n",
       "      <td>16.550000</td>\n",
       "      <td>0.582500</td>\n",
       "      <td>0.481000</td>\n",
       "      <td>0.319500</td>\n",
       "      <td>7.050000</td>\n",
       "      <td>...</td>\n",
       "      <td>15.750000</td>\n",
       "      <td>22.250000</td>\n",
       "      <td>2.000000</td>\n",
       "      <td>1.800000</td>\n",
       "      <td>3.600000</td>\n",
       "      <td>0.123000</td>\n",
       "      <td>0.400000</td>\n",
       "      <td>1.000000</td>\n",
       "      <td>0.550000</td>\n",
       "      <td>0.900000</td>\n",
       "    </tr>\n",
       "    <tr>\n",
       "      <th>max</th>\n",
       "      <td>3.468255e+07</td>\n",
       "      <td>62.000000</td>\n",
       "      <td>41.000000</td>\n",
       "      <td>79.000000</td>\n",
       "      <td>2898.000000</td>\n",
       "      <td>134.100000</td>\n",
       "      <td>1.500000</td>\n",
       "      <td>1.000000</td>\n",
       "      <td>5.333000</td>\n",
       "      <td>35.900000</td>\n",
       "      <td>...</td>\n",
       "      <td>66.700000</td>\n",
       "      <td>45.100000</td>\n",
       "      <td>11.400000</td>\n",
       "      <td>5.600000</td>\n",
       "      <td>15.000000</td>\n",
       "      <td>2.713000</td>\n",
       "      <td>68.700000</td>\n",
       "      <td>6.800000</td>\n",
       "      <td>54.400000</td>\n",
       "      <td>8.600000</td>\n",
       "    </tr>\n",
       "  </tbody>\n",
       "</table>\n",
       "<p>8 rows × 25 columns</p>\n",
       "</div>"
      ],
      "text/plain": [
       "             Salary  NBA_DraftNumber         Age           G           MP  \\\n",
       "count  4.830000e+02       483.000000  483.000000  483.000000   483.000000   \n",
       "mean   6.660622e+06        29.395445   26.273292   50.370600  1158.915114   \n",
       "std    7.398214e+06        21.116033    4.274290   24.723561   809.627553   \n",
       "min    4.608000e+04         1.000000   19.000000    1.000000     1.000000   \n",
       "25%    1.471382e+06        10.500000   23.000000   29.500000   385.000000   \n",
       "50%    3.218280e+06        25.000000   26.000000   59.000000  1151.000000   \n",
       "75%    1.000000e+07        47.000000   29.000000   71.000000  1824.500000   \n",
       "max    3.468255e+07        62.000000   41.000000   79.000000  2898.000000   \n",
       "\n",
       "              PER         TS%        3PAr         FTr        ORB%  ...  \\\n",
       "count  483.000000  483.000000  483.000000  483.000000  483.000000  ...   \n",
       "mean    13.315735    0.535387    0.337383    0.263404    4.893996  ...   \n",
       "std      8.745666    0.112352    0.226894    0.294578    4.581519  ...   \n",
       "min    -41.100000    0.000000    0.000000    0.000000    0.000000  ...   \n",
       "25%      9.800000    0.505500    0.167000    0.155000    1.800000  ...   \n",
       "50%     13.200000    0.545000    0.346000    0.231000    3.300000  ...   \n",
       "75%     16.550000    0.582500    0.481000    0.319500    7.050000  ...   \n",
       "max    134.100000    1.500000    1.000000    5.333000   35.900000  ...   \n",
       "\n",
       "             TOV%        USG%         OWS         DWS          WS       WS/48  \\\n",
       "count  483.000000  483.000000  483.000000  483.000000  483.000000  483.000000   \n",
       "mean    13.140373   18.975569    1.280745    1.181366    2.465424    0.080325   \n",
       "std      6.115290    5.826533    1.883545    1.033939    2.674520    0.163229   \n",
       "min      0.000000    5.700000   -2.300000    0.000000   -1.200000   -1.063000   \n",
       "25%      9.900000   15.000000    0.000000    0.300000    0.300000    0.040500   \n",
       "50%     12.500000   17.900000    0.800000    1.000000    1.900000    0.083000   \n",
       "75%     15.750000   22.250000    2.000000    1.800000    3.600000    0.123000   \n",
       "max     66.700000   45.100000   11.400000    5.600000   15.000000    2.713000   \n",
       "\n",
       "             OBPM        DBPM         BPM        VORP  \n",
       "count  483.000000  483.000000  483.000000  483.000000  \n",
       "mean    -1.252588   -0.489441   -1.741822    0.601242  \n",
       "std      5.028752    2.394156    5.665905    1.247636  \n",
       "min    -36.500000  -14.300000  -49.200000   -1.300000  \n",
       "25%     -2.600000   -1.700000   -3.500000   -0.100000  \n",
       "50%     -1.100000   -0.400000   -1.300000    0.100000  \n",
       "75%      0.400000    1.000000    0.550000    0.900000  \n",
       "max     68.700000    6.800000   54.400000    8.600000  \n",
       "\n",
       "[8 rows x 25 columns]"
      ]
     },
     "execution_count": 11,
     "metadata": {},
     "output_type": "execute_result"
    }
   ],
   "source": [
    "data.describe()"
   ]
  },
  {
   "cell_type": "markdown",
   "metadata": {},
   "source": [
    "# Visualización de datos"
   ]
  },
  {
   "cell_type": "code",
   "execution_count": 14,
   "metadata": {},
   "outputs": [
    {
     "data": {
      "image/png": "[encoded data removed]",
      "text/plain": [
       "<Figure size 576x432 with 2 Axes>"
      ]
     },
     "metadata": {
      "needs_background": "light"
     },
     "output_type": "display_data"
    },
    {
     "data": {
      "text/plain": [
       "<Figure size 7200x4320 with 0 Axes>"
      ]
     },
     "metadata": {},
     "output_type": "display_data"
    }
   ],
   "source": [
    "fig = plt.figure(figsize=(8,6))\n",
    "corrMatrix = data.corr()\n",
    "sn.heatmap(corrMatrix, annot=False)\n",
    "plt.figure(figsize=(100,60))\n",
    "plt.show()"
   ]
  },
  {
   "cell_type": "code",
   "execution_count": 84,
   "metadata": {},
   "outputs": [
    {
     "data": {
      "text/plain": [
       "<matplotlib.axes._subplots.AxesSubplot at 0x21959fc6588>"
      ]
     },
     "execution_count": 84,
     "metadata": {},
     "output_type": "execute_result"
    },
    {
     "data": {
      "image/png": "[encoded data removed]",
      "text/plain": [
       "<Figure size 720x576 with 6 Axes>"
      ]
     },
     "metadata": {
      "needs_background": "light"
     },
     "output_type": "display_data"
    }
   ],
   "source": [
    "fig = plt.figure(figsize=(10,8))\n",
    "\n",
    "plt.subplot(2,3,1)\n",
    "sn.boxplot('Salary', data=data, orient='v')\n",
    "\n",
    "plt.subplot(2,3,2)\n",
    "sn.boxplot('Age', data=data, orient='v')\n",
    "\n",
    "plt.subplot(2,3,3)\n",
    "sn.boxplot('G', data=data, orient='v')\n",
    "\n",
    "plt.subplot(2,3,4)\n",
    "sn.boxplot('MP', data=data, orient='v', color=\"r\")\n",
    "\n",
    "plt.subplot(2,3,5)\n",
    "sn.boxplot('OWS', data=data, orient='v', color=\"r\")\n",
    "\n",
    "plt.subplot(2,3,6)\n",
    "sn.boxplot('DWS', data=data, orient='v', color=\"r\")"
   ]
  },
  {
   "cell_type": "code",
   "execution_count": null,
   "metadata": {},
   "outputs": [
    {
     "data": {
      "text/plain": [
       "Text(0.5, 1.0, 'Age x G')"
      ]
     },
     "execution_count": 99,
     "metadata": {},
     "output_type": "execute_result"
    }
   ],
   "source": [
    "fig = plt.figure(figsize=(12,5))\n",
    "ax = sn.boxplot('Age', 'Salary', data=data, orient='v')\n",
    "ax.set_title(\"Age x Salary\")\n",
    "\n",
    "fig = plt.figure(figsize=(12,5))\n",
    "ax = sn.boxplot('Age', 'MP', data=data, orient='v')\n",
    "ax.set_title(\"Age x MP\")\n",
    "\n",
    "fig = plt.figure(figsize=(12,5))\n",
    "ax = sn.boxplot('Age', 'G', data=data, orient='v')\n",
    "ax.set_title(\"Age x G\")"
   ]
  },
  {
   "cell_type": "code",
   "execution_count": 96,
   "metadata": {},
   "outputs": [
    {
     "data": {
      "text/plain": [
       "Text(0.5, 1.0, 'MP')"
      ]
     },
     "execution_count": 96,
     "metadata": {},
     "output_type": "execute_result"
    },
    {
     "data": {
      "image/png": "[encoded data removed]",
      "text/plain": [
       "<Figure size 1440x360 with 3 Axes>"
      ]
     },
     "metadata": {
      "needs_background": "light"
     },
     "output_type": "display_data"
    }
   ],
   "source": [
    "fig = plt.figure(figsize=(20,5))\n",
    "\n",
    "d = data.iloc[:,1]\n",
    "plt.subplot(1,3,1)\n",
    "ax = sn.kdeplot(d, shade=True, color=\"b\")\n",
    "ax.set_title(\"Salary\")\n",
    "\n",
    "d = data.iloc[:,4]\n",
    "plt.subplot(1,3,2)\n",
    "ax = sn.kdeplot(d, shade=True, color=\"r\")\n",
    "ax.set_title(\"Age\")\n",
    "\n",
    "d = data.iloc[:,7]\n",
    "plt.subplot(1,3,3)\n",
    "ax = sn.kdeplot(d, shade=True, color=\"g\")\n",
    "ax.set_title(\"MP\")\n"
   ]
  },
  {
   "cell_type": "code",
   "execution_count": 21,
   "metadata": {},
   "outputs": [
    {
     "data": {
      "image/png": "[encoded data removed]",
      "text/plain": [
       "<Figure size 864x360 with 2 Axes>"
      ]
     },
     "metadata": {
      "needs_background": "light"
     },
     "output_type": "display_data"
    }
   ],
   "source": [
    "fig = plt.figure(figsize=(12,5))\n",
    "sn.heatmap(corrMatrix[:1], annot=False)\n",
    "plt.show()"
   ]
  },
  {
   "cell_type": "code",
   "execution_count": 22,
   "metadata": {},
   "outputs": [
    {
     "data": {
      "text/plain": [
       "array([[ 1.00000000e+00, -3.80664126e-01,  3.36000823e-01,\n",
       "         2.94014490e-01,  5.05095218e-01,  2.66495306e-01,\n",
       "         1.74758738e-01, -7.35023237e-02,  2.34944909e-02,\n",
       "         7.47192813e-04,  1.90907283e-01,  1.35331593e-01,\n",
       "         2.63262857e-01,  3.06574568e-02,  4.20449389e-02,\n",
       "        -4.32050254e-02,  2.94996071e-01,  5.61988901e-01,\n",
       "         5.03794351e-01,  5.91306748e-01,  1.60953769e-01,\n",
       "         2.63521477e-01,  1.78119142e-01,  3.08737429e-01,\n",
       "         5.73295072e-01]])"
      ]
     },
     "execution_count": 22,
     "metadata": {},
     "output_type": "execute_result"
    }
   ],
   "source": [
    "np.array(corrMatrix)[0:1,:]"
   ]
  }
 ],
 "metadata": {
  "kernelspec": {
   "display_name": "Python 3",
   "language": "python",
   "name": "python3"
  },
  "language_info": {
   "codemirror_mode": {
    "name": "ipython",
    "version": 3
   },
   "file_extension": ".py",
   "mimetype": "text/x-python",
   "name": "python",
   "nbconvert_exporter": "python",
   "pygments_lexer": "ipython3",
   "version": "3.7.3"
  }
 },
 "nbformat": 4,
 "nbformat_minor": 4
}
